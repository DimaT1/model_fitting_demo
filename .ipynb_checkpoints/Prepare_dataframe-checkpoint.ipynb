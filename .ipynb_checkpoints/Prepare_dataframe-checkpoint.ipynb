{
 "cells": [
  {
   "cell_type": "markdown",
   "metadata": {},
   "source": [
    "# Подготовка dataframe"
   ]
  },
  {
   "cell_type": "markdown",
   "metadata": {},
   "source": [
    "## Исходный файл\n",
    "\n",
    "Имеется CSV файл ~320к пар слов с указанием однокоренных/омонимичных\n",
    "\n",
    "Имя: dataset.csv\n",
    "\n",
    "Структура файла:\n",
    "\n",
    "$$word1;word2;similarity$$\n",
    "\n",
    "Пример:\n",
    "\n",
    "$$абажуродержатель;пробурить;False$$\n",
    "\n",
    "$$абсолютно;абсолютивный;True$$"
   ]
  },
  {
   "cell_type": "code",
   "execution_count": 1,
   "metadata": {
    "collapsed": true
   },
   "outputs": [],
   "source": [
    "import pandas as pd\n",
    "import nltk\n",
    "from nltk.stem.snowball import SnowballStemmer\n",
    "%matplotlib inline"
   ]
  },
  {
   "cell_type": "code",
   "execution_count": 2,
   "metadata": {
    "collapsed": true
   },
   "outputs": [],
   "source": [
    "df = pd.read_csv(r\"dataset.csv\",\";\", encoding='windows-1251')"
   ]
  },
  {
   "cell_type": "code",
   "execution_count": 3,
   "metadata": {},
   "outputs": [
    {
     "data": {
      "text/html": [
       "<div>\n",
       "<style>\n",
       "    .dataframe thead tr:only-child th {\n",
       "        text-align: right;\n",
       "    }\n",
       "\n",
       "    .dataframe thead th {\n",
       "        text-align: left;\n",
       "    }\n",
       "\n",
       "    .dataframe tbody tr th {\n",
       "        vertical-align: top;\n",
       "    }\n",
       "</style>\n",
       "<table border=\"1\" class=\"dataframe\">\n",
       "  <thead>\n",
       "    <tr style=\"text-align: right;\">\n",
       "      <th></th>\n",
       "      <th>word1</th>\n",
       "      <th>word2</th>\n",
       "      <th>similarity</th>\n",
       "    </tr>\n",
       "  </thead>\n",
       "  <tbody>\n",
       "    <tr>\n",
       "      <th>0</th>\n",
       "      <td>абажуродержатель</td>\n",
       "      <td>пробурить</td>\n",
       "      <td>False</td>\n",
       "    </tr>\n",
       "    <tr>\n",
       "      <th>1</th>\n",
       "      <td>абажуродержатель</td>\n",
       "      <td>средина</td>\n",
       "      <td>False</td>\n",
       "    </tr>\n",
       "    <tr>\n",
       "      <th>2</th>\n",
       "      <td>абажуродержатель</td>\n",
       "      <td>срочник</td>\n",
       "      <td>False</td>\n",
       "    </tr>\n",
       "    <tr>\n",
       "      <th>3</th>\n",
       "      <td>абонементодержатель</td>\n",
       "      <td>заночевать</td>\n",
       "      <td>False</td>\n",
       "    </tr>\n",
       "    <tr>\n",
       "      <th>4</th>\n",
       "      <td>абонементодержатель</td>\n",
       "      <td>любящий</td>\n",
       "      <td>False</td>\n",
       "    </tr>\n",
       "  </tbody>\n",
       "</table>\n",
       "</div>"
      ],
      "text/plain": [
       "                 word1       word2  similarity\n",
       "0     абажуродержатель   пробурить       False\n",
       "1     абажуродержатель     средина       False\n",
       "2     абажуродержатель     срочник       False\n",
       "3  абонементодержатель  заночевать       False\n",
       "4  абонементодержатель     любящий       False"
      ]
     },
     "execution_count": 3,
     "metadata": {},
     "output_type": "execute_result"
    }
   ],
   "source": [
    "df.head()"
   ]
  },
  {
   "cell_type": "code",
   "execution_count": 4,
   "metadata": {},
   "outputs": [
    {
     "data": {
      "text/plain": [
       "(326739, 3)"
      ]
     },
     "execution_count": 4,
     "metadata": {},
     "output_type": "execute_result"
    }
   ],
   "source": [
    "df.shape"
   ]
  },
  {
   "cell_type": "markdown",
   "metadata": {},
   "source": [
    "## Расчёт расстояния\n",
    "\n",
    "Ищем расстояния между основами слов\n",
    "\n",
    "Будем считать не просто расстояние Левенштейна, а количество использований каждой операции (добавления, удаления, замены элемента) при поиске этого расстояния"
   ]
  },
  {
   "cell_type": "code",
   "execution_count": 5,
   "metadata": {
    "collapsed": true
   },
   "outputs": [],
   "source": [
    "def distance(a, b):\n",
    "    stemmer = SnowballStemmer(\"russian\")\n",
    "    a = stemmer.stem(a)\n",
    "    b = stemmer.stem(b)\n",
    "    return levenshtein_distance(a, b)\n",
    "    \n",
    "def levenshtein_distance(a, b):\n",
    "    \"Calculates the Levenshtein distance between a and b.\"\n",
    "    n, m = len(a), len(b)\n",
    "    if n > m:\n",
    "        # Make sure n <= m, to use O(min(n,m)) space\n",
    "        a, b = b, a\n",
    "        n, m = m, n\n",
    " \n",
    "    current_row = [(0, i, 0) for i in range(n + 1)]  # Keep current and previous row, not entire matrix\n",
    "    for i in range(1, m + 1):\n",
    "        previous_row, current_row = current_row, [(i, 0, 0)] + [(0, 0, 0)] * n\n",
    "        for j in range(1, n + 1):\n",
    "            add, delete, change = previous_row[j], current_row[j - 1], previous_row[j - 1]\n",
    "            add = (add[0] + 1, add[1], add[2])\n",
    "            delete = (delete[0], delete[1] + 1, delete[2])\n",
    "            if a[j - 1] != b[i - 1]:\n",
    "                change = (change[0], change[1], change[2] + 1)\n",
    "            current_row[j] = min(add, delete, change, key=lambda x: sum(x))\n",
    " \n",
    "    return current_row[n]"
   ]
  },
  {
   "cell_type": "markdown",
   "metadata": {},
   "source": [
    "Добавим столбцы со стемами (nltk SnowballStemmer)"
   ]
  },
  {
   "cell_type": "code",
   "execution_count": 6,
   "metadata": {
    "collapsed": true
   },
   "outputs": [],
   "source": [
    "stemmer = SnowballStemmer(\"russian\")\n",
    "df['stem1'] = df[\"word1\"].map(lambda x : stemmer.stem(x))\n",
    "df['stem2'] = df[\"word2\"].map(lambda x : stemmer.stem(x))"
   ]
  },
  {
   "cell_type": "markdown",
   "metadata": {},
   "source": [
    "Добавим столбцы с длинами стемов "
   ]
  },
  {
   "cell_type": "code",
   "execution_count": 7,
   "metadata": {
    "collapsed": true
   },
   "outputs": [],
   "source": [
    "df['lenStem1'] = df['stem1'].str.len()\n",
    "df['lenStem2'] = df['stem2'].str.len()"
   ]
  },
  {
   "cell_type": "code",
   "execution_count": 8,
   "metadata": {
    "collapsed": true
   },
   "outputs": [],
   "source": [
    "df['maxLen'] = df[['lenStem1', 'lenStem2']].max(axis=1)\n",
    "df['minLen'] = df[['lenStem1', 'lenStem2']].min(axis=1)"
   ]
  },
  {
   "cell_type": "markdown",
   "metadata": {},
   "source": [
    "добавим столбцы с расстояниями"
   ]
  },
  {
   "cell_type": "code",
   "execution_count": 9,
   "metadata": {
    "collapsed": true
   },
   "outputs": [],
   "source": [
    "df['dist'] = df['stem1'].combine(df['stem2'], lambda x, y : levenshtein_distance(x, y))"
   ]
  },
  {
   "cell_type": "code",
   "execution_count": 10,
   "metadata": {
    "collapsed": true
   },
   "outputs": [],
   "source": [
    "df['add'] = df['stem1'].combine(df['stem2'], lambda x, y : levenshtein_distance(x, y)[0])\n",
    "df['delete'] = df['stem1'].combine(df['stem2'], lambda x, y : levenshtein_distance(x, y)[1])\n",
    "df['change'] = df['stem1'].combine(df['stem2'], lambda x, y : levenshtein_distance(x, y)[2])"
   ]
  },
  {
   "cell_type": "markdown",
   "metadata": {},
   "source": [
    "Добавим свойство однокоренных слов/омоформ"
   ]
  },
  {
   "cell_type": "code",
   "execution_count": 11,
   "metadata": {
    "collapsed": true
   },
   "outputs": [],
   "source": [
    "def simCode(x):\n",
    "    if x == True:\n",
    "        return 1\n",
    "    else:\n",
    "        return -1\n",
    "    \n",
    "df['simCode'] = df['similarity'].map(simCode)"
   ]
  },
  {
   "cell_type": "code",
   "execution_count": 12,
   "metadata": {},
   "outputs": [
    {
     "data": {
      "text/html": [
       "<div>\n",
       "<style>\n",
       "    .dataframe thead tr:only-child th {\n",
       "        text-align: right;\n",
       "    }\n",
       "\n",
       "    .dataframe thead th {\n",
       "        text-align: left;\n",
       "    }\n",
       "\n",
       "    .dataframe tbody tr th {\n",
       "        vertical-align: top;\n",
       "    }\n",
       "</style>\n",
       "<table border=\"1\" class=\"dataframe\">\n",
       "  <thead>\n",
       "    <tr style=\"text-align: right;\">\n",
       "      <th></th>\n",
       "      <th>word1</th>\n",
       "      <th>word2</th>\n",
       "      <th>similarity</th>\n",
       "      <th>stem1</th>\n",
       "      <th>stem2</th>\n",
       "      <th>lenStem1</th>\n",
       "      <th>lenStem2</th>\n",
       "      <th>maxLen</th>\n",
       "      <th>minLen</th>\n",
       "      <th>dist</th>\n",
       "      <th>add</th>\n",
       "      <th>delete</th>\n",
       "      <th>change</th>\n",
       "      <th>simCode</th>\n",
       "    </tr>\n",
       "  </thead>\n",
       "  <tbody>\n",
       "    <tr>\n",
       "      <th>0</th>\n",
       "      <td>абажуродержатель</td>\n",
       "      <td>пробурить</td>\n",
       "      <td>False</td>\n",
       "      <td>абажуродержател</td>\n",
       "      <td>пробур</td>\n",
       "      <td>15</td>\n",
       "      <td>6</td>\n",
       "      <td>15</td>\n",
       "      <td>6</td>\n",
       "      <td>(9, 0, 3)</td>\n",
       "      <td>9</td>\n",
       "      <td>0</td>\n",
       "      <td>3</td>\n",
       "      <td>-1</td>\n",
       "    </tr>\n",
       "    <tr>\n",
       "      <th>1</th>\n",
       "      <td>абажуродержатель</td>\n",
       "      <td>средина</td>\n",
       "      <td>False</td>\n",
       "      <td>абажуродержател</td>\n",
       "      <td>средин</td>\n",
       "      <td>15</td>\n",
       "      <td>6</td>\n",
       "      <td>15</td>\n",
       "      <td>6</td>\n",
       "      <td>(9, 0, 4)</td>\n",
       "      <td>9</td>\n",
       "      <td>0</td>\n",
       "      <td>4</td>\n",
       "      <td>-1</td>\n",
       "    </tr>\n",
       "    <tr>\n",
       "      <th>2</th>\n",
       "      <td>абажуродержатель</td>\n",
       "      <td>срочник</td>\n",
       "      <td>False</td>\n",
       "      <td>абажуродержател</td>\n",
       "      <td>срочник</td>\n",
       "      <td>15</td>\n",
       "      <td>7</td>\n",
       "      <td>15</td>\n",
       "      <td>7</td>\n",
       "      <td>(8, 0, 5)</td>\n",
       "      <td>8</td>\n",
       "      <td>0</td>\n",
       "      <td>5</td>\n",
       "      <td>-1</td>\n",
       "    </tr>\n",
       "    <tr>\n",
       "      <th>3</th>\n",
       "      <td>абонементодержатель</td>\n",
       "      <td>заночевать</td>\n",
       "      <td>False</td>\n",
       "      <td>абонементодержател</td>\n",
       "      <td>заночева</td>\n",
       "      <td>18</td>\n",
       "      <td>8</td>\n",
       "      <td>18</td>\n",
       "      <td>8</td>\n",
       "      <td>(11, 1, 2)</td>\n",
       "      <td>11</td>\n",
       "      <td>1</td>\n",
       "      <td>2</td>\n",
       "      <td>-1</td>\n",
       "    </tr>\n",
       "    <tr>\n",
       "      <th>4</th>\n",
       "      <td>абонементодержатель</td>\n",
       "      <td>любящий</td>\n",
       "      <td>False</td>\n",
       "      <td>абонементодержател</td>\n",
       "      <td>любя</td>\n",
       "      <td>18</td>\n",
       "      <td>4</td>\n",
       "      <td>18</td>\n",
       "      <td>4</td>\n",
       "      <td>(15, 1, 2)</td>\n",
       "      <td>15</td>\n",
       "      <td>1</td>\n",
       "      <td>2</td>\n",
       "      <td>-1</td>\n",
       "    </tr>\n",
       "  </tbody>\n",
       "</table>\n",
       "</div>"
      ],
      "text/plain": [
       "                 word1       word2  similarity               stem1     stem2  \\\n",
       "0     абажуродержатель   пробурить       False     абажуродержател    пробур   \n",
       "1     абажуродержатель     средина       False     абажуродержател    средин   \n",
       "2     абажуродержатель     срочник       False     абажуродержател   срочник   \n",
       "3  абонементодержатель  заночевать       False  абонементодержател  заночева   \n",
       "4  абонементодержатель     любящий       False  абонементодержател      любя   \n",
       "\n",
       "   lenStem1  lenStem2  maxLen  minLen        dist add delete change  simCode  \n",
       "0        15         6      15       6   (9, 0, 3)   9      0      3       -1  \n",
       "1        15         6      15       6   (9, 0, 4)   9      0      4       -1  \n",
       "2        15         7      15       7   (8, 0, 5)   8      0      5       -1  \n",
       "3        18         8      18       8  (11, 1, 2)  11      1      2       -1  \n",
       "4        18         4      18       4  (15, 1, 2)  15      1      2       -1  "
      ]
     },
     "execution_count": 12,
     "metadata": {},
     "output_type": "execute_result"
    }
   ],
   "source": [
    "df.head()"
   ]
  },
  {
   "cell_type": "code",
   "execution_count": 13,
   "metadata": {
    "collapsed": true
   },
   "outputs": [],
   "source": [
    "df = df.drop(['word1', 'word2', 'similarity', 'stem1', 'stem2', 'dist', 'lenStem1', 'lenStem2'], axis=1)"
   ]
  },
  {
   "cell_type": "markdown",
   "metadata": {},
   "source": [
    "Получаем таблицу следующего вида"
   ]
  },
  {
   "cell_type": "code",
   "execution_count": 14,
   "metadata": {},
   "outputs": [
    {
     "data": {
      "text/html": [
       "<div>\n",
       "<style>\n",
       "    .dataframe thead tr:only-child th {\n",
       "        text-align: right;\n",
       "    }\n",
       "\n",
       "    .dataframe thead th {\n",
       "        text-align: left;\n",
       "    }\n",
       "\n",
       "    .dataframe tbody tr th {\n",
       "        vertical-align: top;\n",
       "    }\n",
       "</style>\n",
       "<table border=\"1\" class=\"dataframe\">\n",
       "  <thead>\n",
       "    <tr style=\"text-align: right;\">\n",
       "      <th></th>\n",
       "      <th>maxLen</th>\n",
       "      <th>minLen</th>\n",
       "      <th>add</th>\n",
       "      <th>delete</th>\n",
       "      <th>change</th>\n",
       "      <th>simCode</th>\n",
       "    </tr>\n",
       "  </thead>\n",
       "  <tbody>\n",
       "    <tr>\n",
       "      <th>0</th>\n",
       "      <td>15</td>\n",
       "      <td>6</td>\n",
       "      <td>9</td>\n",
       "      <td>0</td>\n",
       "      <td>3</td>\n",
       "      <td>-1</td>\n",
       "    </tr>\n",
       "    <tr>\n",
       "      <th>1</th>\n",
       "      <td>15</td>\n",
       "      <td>6</td>\n",
       "      <td>9</td>\n",
       "      <td>0</td>\n",
       "      <td>4</td>\n",
       "      <td>-1</td>\n",
       "    </tr>\n",
       "    <tr>\n",
       "      <th>2</th>\n",
       "      <td>15</td>\n",
       "      <td>7</td>\n",
       "      <td>8</td>\n",
       "      <td>0</td>\n",
       "      <td>5</td>\n",
       "      <td>-1</td>\n",
       "    </tr>\n",
       "    <tr>\n",
       "      <th>3</th>\n",
       "      <td>18</td>\n",
       "      <td>8</td>\n",
       "      <td>11</td>\n",
       "      <td>1</td>\n",
       "      <td>2</td>\n",
       "      <td>-1</td>\n",
       "    </tr>\n",
       "    <tr>\n",
       "      <th>4</th>\n",
       "      <td>18</td>\n",
       "      <td>4</td>\n",
       "      <td>15</td>\n",
       "      <td>1</td>\n",
       "      <td>2</td>\n",
       "      <td>-1</td>\n",
       "    </tr>\n",
       "  </tbody>\n",
       "</table>\n",
       "</div>"
      ],
      "text/plain": [
       "   maxLen  minLen add delete change  simCode\n",
       "0      15       6   9      0      3       -1\n",
       "1      15       6   9      0      4       -1\n",
       "2      15       7   8      0      5       -1\n",
       "3      18       8  11      1      2       -1\n",
       "4      18       4  15      1      2       -1"
      ]
     },
     "execution_count": 14,
     "metadata": {},
     "output_type": "execute_result"
    }
   ],
   "source": [
    "df.head()"
   ]
  },
  {
   "cell_type": "markdown",
   "metadata": {},
   "source": [
    "Посмотрим на распределение примеров по однокоренным словам/омоформам"
   ]
  },
  {
   "cell_type": "code",
   "execution_count": 15,
   "metadata": {},
   "outputs": [
    {
     "data": {
      "text/plain": [
       "<matplotlib.axes._subplots.AxesSubplot at 0x1d403acec50>"
      ]
     },
     "execution_count": 15,
     "metadata": {},
     "output_type": "execute_result"
    },
    {
     "data": {
      "image/png": "[encoded data removed]",
      "text/plain": [
       "<matplotlib.figure.Figure at 0x1d403aceb38>"
      ]
     },
     "metadata": {},
     "output_type": "display_data"
    }
   ],
   "source": [
    "df['simCode'].value_counts().plot.pie()"
   ]
  },
  {
   "cell_type": "code",
   "execution_count": 16,
   "metadata": {
    "collapsed": true
   },
   "outputs": [],
   "source": [
    "df.to_csv(r\"dataframe.csv\", sep=';', encoding='utf-8')"
   ]
  },
  {
   "cell_type": "code",
   "execution_count": null,
   "metadata": {
    "collapsed": true
   },
   "outputs": [],
   "source": []
  }
 ],
 "metadata": {
  "kernelspec": {
   "display_name": "Python 3",
   "language": "python",
   "name": "python3"
  },
  "language_info": {
   "codemirror_mode": {
    "name": "ipython",
    "version": 3
   },
   "file_extension": ".py",
   "mimetype": "text/x-python",
   "name": "python",
   "nbconvert_exporter": "python",
   "pygments_lexer": "ipython3",
   "version": "3.6.3"
  }
 },
 "nbformat": 4,
 "nbformat_minor": 2
}
