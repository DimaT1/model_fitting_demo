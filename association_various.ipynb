{
 "cells": [
  {
   "cell_type": "code",
   "execution_count": 2,
   "metadata": {},
   "outputs": [],
   "source": [
    "import gensim\n",
    "w2v_model = gensim.models.KeyedVectors.load_word2vec_format(r'''araneum_upos_skipgram_300_2_2018.vec''')"
   ]
  },
  {
   "cell_type": "code",
   "execution_count": 41,
   "metadata": {
    "collapsed": true
   },
   "outputs": [],
   "source": [
    "from sklearn.externals import joblib\n",
    "import pandas as pd\n",
    "from nltk.stem.snowball import SnowballStemmer"
   ]
  },
  {
   "cell_type": "code",
   "execution_count": 42,
   "metadata": {
    "collapsed": true
   },
   "outputs": [],
   "source": [
    "def levenshtein_distance(a, b):\n",
    "    \"Calculates the Levenshtein distance between a and b.\"\n",
    "    n, m = len(a), len(b)\n",
    "    if n > m:\n",
    "        # Make sure n <= m, to use O(min(n,m)) space\n",
    "        a, b = b, a\n",
    "        n, m = m, n\n",
    " \n",
    "    current_row = [(0, i, 0) for i in range(n + 1)]  # Keep current and previous row, not entire matrix\n",
    "    for i in range(1, m + 1):\n",
    "        previous_row, current_row = current_row, [(i, 0, 0)] + [(0, 0, 0)] * n\n",
    "        for j in range(1, n + 1):\n",
    "            add, delete, change = previous_row[j], current_row[j - 1], previous_row[j - 1]\n",
    "            add = (add[0] + 1, add[1], add[2])\n",
    "            delete = (delete[0], delete[1] + 1, delete[2])\n",
    "            if a[j - 1] != b[i - 1]:\n",
    "                change = (change[0], change[1], change[2] + 1)\n",
    "            current_row[j] = min(add, delete, change, key=lambda x: sum(x))\n",
    " \n",
    "    return current_row[n]"
   ]
  },
  {
   "cell_type": "code",
   "execution_count": 43,
   "metadata": {
    "collapsed": true
   },
   "outputs": [],
   "source": [
    "clf = joblib.load(\"rf_classifier.pkl\")\n",
    "stemmer = SnowballStemmer(\"russian\")\n",
    "\n",
    "def get_same_stem_russian(word1: str, word2: str) -> dict:\n",
    "    a = stemmer.stem(word1)\n",
    "    b = stemmer.stem(word2)\n",
    "\n",
    "    maxLen = max(len(a), len(b))\n",
    "    minLen = min(len(a), len(b))\n",
    "\n",
    "    add, delete, change = levenshtein_distance(a, b)\n",
    "    df = pd.DataFrame(data=[(maxLen, minLen, add, delete, change)],\n",
    "                      columns=['maxLen', 'minLen', 'add', 'delete', 'change'])\n",
    "\n",
    "    return {\n",
    "        'predict': int(clf.predict(df)[0]),\n",
    "        'predict_proba': float(clf.predict_proba(df)[:, 1][0])\n",
    "    }"
   ]
  },
  {
   "cell_type": "code",
   "execution_count": 69,
   "metadata": {},
   "outputs": [],
   "source": [
    "def assoc_list(word: str, topn=5) -> list:\n",
    "    arr = w2v_model.most_similar(positive=[word], topn=topn+20)\n",
    "    res = []\n",
    "    for i in arr:\n",
    "        flag = True\n",
    "        i_buf = i[0][:i[0].find(\"_\")]\n",
    "        for j in [(word, 1)] + res:\n",
    "            j_buf = j[0][:j[0].find(\"_\")]\n",
    "            if get_same_stem_russian(i_buf, j_buf)['predict'] == 1:\n",
    "                flag = False\n",
    "        if flag:\n",
    "            res.append(i)\n",
    "    return res[:topn]"
   ]
  },
  {
   "cell_type": "code",
   "execution_count": 73,
   "metadata": {},
   "outputs": [
    {
     "data": {
      "text/plain": [
       "[('боеголовка_NOUN', 0.7894258499145508),\n",
       " ('баллистический_ADJ', 0.756476879119873),\n",
       " ('противокорабельный_ADJ', 0.7446105480194092),\n",
       " ('брпл_X', 0.7339468002319336),\n",
       " ('боезаряд_NOUN', 0.6867998242378235)]"
      ]
     },
     "execution_count": 73,
     "metadata": {},
     "output_type": "execute_result"
    }
   ],
   "source": [
    "assoc_list(\"ракета_NOUN\")"
   ]
  },
  {
   "cell_type": "code",
   "execution_count": null,
   "metadata": {},
   "outputs": [],
   "source": []
  },
  {
   "cell_type": "raw",
   "metadata": {},
   "source": [
    "\n"
   ]
  },
  {
   "cell_type": "code",
   "execution_count": 59,
   "metadata": {
    "collapsed": true
   },
   "outputs": [],
   "source": []
  },
  {
   "cell_type": "code",
   "execution_count": null,
   "metadata": {},
   "outputs": [],
   "source": []
  },
  {
   "cell_type": "code",
   "execution_count": null,
   "metadata": {
    "collapsed": true
   },
   "outputs": [],
   "source": []
  }
 ],
 "metadata": {
  "kernelspec": {
   "display_name": "Python 3",
   "language": "python",
   "name": "python3"
  },
  "language_info": {
   "codemirror_mode": {
    "name": "ipython",
    "version": 3
   },
   "file_extension": ".py",
   "mimetype": "text/x-python",
   "name": "python",
   "nbconvert_exporter": "python",
   "pygments_lexer": "ipython3",
   "version": "3.6.3"
  }
 },
 "nbformat": 4,
 "nbformat_minor": 2
}
